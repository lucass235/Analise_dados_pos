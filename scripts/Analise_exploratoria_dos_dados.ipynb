{
 "cells": [
  {
   "cell_type": "code",
   "execution_count": 1,
   "metadata": {},
   "outputs": [],
   "source": [
    "import pandas as pd"
   ]
  },
  {
   "cell_type": "code",
   "execution_count": 2,
   "metadata": {},
   "outputs": [],
   "source": [
    "data = pd.read_csv('../data/adult.data', header=None)\n",
    "data_test = pd.read_csv('../data/adult.test', header=None)"
   ]
  },
  {
   "cell_type": "code",
   "execution_count": 3,
   "metadata": {},
   "outputs": [],
   "source": [
    "# Renomear as colunas\n",
    "columns = ['Idade', 'Classe Trabalhadora', 'fnlwgt', 'Educação', 'N da Educação', 'Estado Civil', 'Ocupação', 'Relacionamento', 'Raça', 'Sexo', 'Ganho de Capital', 'Perda de Capital', 'Horas por Semana', 'País de Origem', 'Classe']\n",
    "data.columns = columns\n",
    "data_test.columns = columns"
   ]
  },
  {
   "cell_type": "code",
   "execution_count": 4,
   "metadata": {},
   "outputs": [
    {
     "data": {
      "text/html": [
       "<div>\n",
       "<style scoped>\n",
       "    .dataframe tbody tr th:only-of-type {\n",
       "        vertical-align: middle;\n",
       "    }\n",
       "\n",
       "    .dataframe tbody tr th {\n",
       "        vertical-align: top;\n",
       "    }\n",
       "\n",
       "    .dataframe thead th {\n",
       "        text-align: right;\n",
       "    }\n",
       "</style>\n",
       "<table border=\"1\" class=\"dataframe\">\n",
       "  <thead>\n",
       "    <tr style=\"text-align: right;\">\n",
       "      <th></th>\n",
       "      <th>Idade</th>\n",
       "      <th>Classe Trabalhadora</th>\n",
       "      <th>fnlwgt</th>\n",
       "      <th>Educação</th>\n",
       "      <th>N da Educação</th>\n",
       "      <th>Estado Civil</th>\n",
       "      <th>Ocupação</th>\n",
       "      <th>Relacionamento</th>\n",
       "      <th>Raça</th>\n",
       "      <th>Sexo</th>\n",
       "      <th>Ganho de Capital</th>\n",
       "      <th>Perda de Capital</th>\n",
       "      <th>Horas por Semana</th>\n",
       "      <th>País de Origem</th>\n",
       "      <th>Classe</th>\n",
       "    </tr>\n",
       "  </thead>\n",
       "  <tbody>\n",
       "    <tr>\n",
       "      <th>0</th>\n",
       "      <td>39</td>\n",
       "      <td>State-gov</td>\n",
       "      <td>77516</td>\n",
       "      <td>Bachelors</td>\n",
       "      <td>13</td>\n",
       "      <td>Never-married</td>\n",
       "      <td>Adm-clerical</td>\n",
       "      <td>Not-in-family</td>\n",
       "      <td>White</td>\n",
       "      <td>Male</td>\n",
       "      <td>2174</td>\n",
       "      <td>0</td>\n",
       "      <td>40</td>\n",
       "      <td>United-States</td>\n",
       "      <td>&lt;=50K</td>\n",
       "    </tr>\n",
       "    <tr>\n",
       "      <th>1</th>\n",
       "      <td>50</td>\n",
       "      <td>Self-emp-not-inc</td>\n",
       "      <td>83311</td>\n",
       "      <td>Bachelors</td>\n",
       "      <td>13</td>\n",
       "      <td>Married-civ-spouse</td>\n",
       "      <td>Exec-managerial</td>\n",
       "      <td>Husband</td>\n",
       "      <td>White</td>\n",
       "      <td>Male</td>\n",
       "      <td>0</td>\n",
       "      <td>0</td>\n",
       "      <td>13</td>\n",
       "      <td>United-States</td>\n",
       "      <td>&lt;=50K</td>\n",
       "    </tr>\n",
       "    <tr>\n",
       "      <th>2</th>\n",
       "      <td>38</td>\n",
       "      <td>Private</td>\n",
       "      <td>215646</td>\n",
       "      <td>HS-grad</td>\n",
       "      <td>9</td>\n",
       "      <td>Divorced</td>\n",
       "      <td>Handlers-cleaners</td>\n",
       "      <td>Not-in-family</td>\n",
       "      <td>White</td>\n",
       "      <td>Male</td>\n",
       "      <td>0</td>\n",
       "      <td>0</td>\n",
       "      <td>40</td>\n",
       "      <td>United-States</td>\n",
       "      <td>&lt;=50K</td>\n",
       "    </tr>\n",
       "    <tr>\n",
       "      <th>3</th>\n",
       "      <td>53</td>\n",
       "      <td>Private</td>\n",
       "      <td>234721</td>\n",
       "      <td>11th</td>\n",
       "      <td>7</td>\n",
       "      <td>Married-civ-spouse</td>\n",
       "      <td>Handlers-cleaners</td>\n",
       "      <td>Husband</td>\n",
       "      <td>Black</td>\n",
       "      <td>Male</td>\n",
       "      <td>0</td>\n",
       "      <td>0</td>\n",
       "      <td>40</td>\n",
       "      <td>United-States</td>\n",
       "      <td>&lt;=50K</td>\n",
       "    </tr>\n",
       "    <tr>\n",
       "      <th>4</th>\n",
       "      <td>28</td>\n",
       "      <td>Private</td>\n",
       "      <td>338409</td>\n",
       "      <td>Bachelors</td>\n",
       "      <td>13</td>\n",
       "      <td>Married-civ-spouse</td>\n",
       "      <td>Prof-specialty</td>\n",
       "      <td>Wife</td>\n",
       "      <td>Black</td>\n",
       "      <td>Female</td>\n",
       "      <td>0</td>\n",
       "      <td>0</td>\n",
       "      <td>40</td>\n",
       "      <td>Cuba</td>\n",
       "      <td>&lt;=50K</td>\n",
       "    </tr>\n",
       "  </tbody>\n",
       "</table>\n",
       "</div>"
      ],
      "text/plain": [
       "   Idade Classe Trabalhadora  fnlwgt    Educação  N da Educação  \\\n",
       "0     39           State-gov   77516   Bachelors             13   \n",
       "1     50    Self-emp-not-inc   83311   Bachelors             13   \n",
       "2     38             Private  215646     HS-grad              9   \n",
       "3     53             Private  234721        11th              7   \n",
       "4     28             Private  338409   Bachelors             13   \n",
       "\n",
       "          Estado Civil            Ocupação  Relacionamento    Raça     Sexo  \\\n",
       "0        Never-married        Adm-clerical   Not-in-family   White     Male   \n",
       "1   Married-civ-spouse     Exec-managerial         Husband   White     Male   \n",
       "2             Divorced   Handlers-cleaners   Not-in-family   White     Male   \n",
       "3   Married-civ-spouse   Handlers-cleaners         Husband   Black     Male   \n",
       "4   Married-civ-spouse      Prof-specialty            Wife   Black   Female   \n",
       "\n",
       "   Ganho de Capital  Perda de Capital  Horas por Semana  País de Origem  \\\n",
       "0              2174                 0                40   United-States   \n",
       "1                 0                 0                13   United-States   \n",
       "2                 0                 0                40   United-States   \n",
       "3                 0                 0                40   United-States   \n",
       "4                 0                 0                40            Cuba   \n",
       "\n",
       "   Classe  \n",
       "0   <=50K  \n",
       "1   <=50K  \n",
       "2   <=50K  \n",
       "3   <=50K  \n",
       "4   <=50K  "
      ]
     },
     "execution_count": 4,
     "metadata": {},
     "output_type": "execute_result"
    }
   ],
   "source": [
    "data.head()"
   ]
  },
  {
   "cell_type": "code",
   "execution_count": 5,
   "metadata": {},
   "outputs": [],
   "source": [
    "data.to_csv('../data/adult.data.csv', index=False, sep=';')"
   ]
  },
  {
   "cell_type": "code",
   "execution_count": 6,
   "metadata": {},
   "outputs": [
    {
     "data": {
      "text/plain": [
       "Classe\n",
       "<=50K    24720\n",
       ">50K      7841\n",
       "Name: count, dtype: int64"
      ]
     },
     "execution_count": 6,
     "metadata": {},
     "output_type": "execute_result"
    }
   ],
   "source": [
    "data['Classe'].value_counts()"
   ]
  },
  {
   "cell_type": "markdown",
   "metadata": {},
   "source": [
    "# Análise Exploratória dos dados"
   ]
  },
  {
   "cell_type": "markdown",
   "metadata": {},
   "source": [
    "## 1. Compreensão dos Tipos de Dados\n",
    "**Identificar e entender os diferentes tipos de dados presentes no conjunto de dados** "
   ]
  },
  {
   "cell_type": "markdown",
   "metadata": {},
   "source": [
    "- Visualizando os Tipos de Dados"
   ]
  },
  {
   "cell_type": "code",
   "execution_count": 7,
   "metadata": {},
   "outputs": [
    {
     "data": {
      "text/plain": [
       "Idade                   int64\n",
       "Classe Trabalhadora    object\n",
       "fnlwgt                  int64\n",
       "Educação               object\n",
       "N da Educação           int64\n",
       "Estado Civil           object\n",
       "Ocupação               object\n",
       "Relacionamento         object\n",
       "Raça                   object\n",
       "Sexo                   object\n",
       "Ganho de Capital        int64\n",
       "Perda de Capital        int64\n",
       "Horas por Semana        int64\n",
       "País de Origem         object\n",
       "Classe                 object\n",
       "dtype: object"
      ]
     },
     "execution_count": 7,
     "metadata": {},
     "output_type": "execute_result"
    }
   ],
   "source": [
    "# Visto que as os valores das colunas estão no formato correto, não e necessário fazer a conversão de tipos.\n",
    "data.dtypes"
   ]
  },
  {
   "cell_type": "markdown",
   "metadata": {},
   "source": [
    "- Análise dos Tipos de Dados"
   ]
  },
  {
   "cell_type": "markdown",
   "metadata": {},
   "source": [
    "1. Colunas Numéricas:\n",
    "    - **Idade**: A idade é um número inteiro, representando a idade do cliente.\n",
    "    - **fnlwgt**: Peso final, que é o número de pessoas que o censo acredita que a entrada representa.\n",
    "    - **N da Educação**: Número de anos de educação que significa o número de anos de educação que o cliente teve.\n",
    "    - **Ganho de Capital**: Ganho de capital do cliente (lucro).\n",
    "    - **Perda de Capital**: Perda de capital do cliente (prejuízo).\n",
    "    - **Horas por Semana**: Número de horas trabalhadas por semana.\n",
    "2. Colunas Categóricas:\n",
    "    - **Classe de Trabalho**: Classe de trabalho do cliente.\n",
    "    - **Educação**: Nível de educação do cliente.\n",
    "    - **Estado Civil**: Estado civil do cliente.\n",
    "    - **Ocupação**: Ocupação do cliente.\n",
    "    - **Relacionamento**: Relacionamento do cliente.\n",
    "    - **Raça**: Raça do cliente (Branco, Preto, Asiático-Pacífico, Amer-Indian-Eskimo, Outro).\n",
    "    - **Sexo**: Sexo do cliente (Masculino, Feminino).\n",
    "    - **País de Origem**: País de origem do cliente.\n",
    "    - **Classe**: Renda do cliente (<=50K ou >50K)."
   ]
  },
  {
   "cell_type": "markdown",
   "metadata": {},
   "source": [
    "### Discussão\n",
    "\n",
    "1. **Colunas Numéricas:**\n",
    "   - As colunas numéricas são fundamentais para realizar análises estatísticas, como média, mediana, e dispersão dos dados.\n",
    "   - Colunas como `Idade`, `N da Educação`, e `Horas por Semana` são intuitivamente contínuas e ajudarão a entender a distribuição e a tendência central dos dados.\n",
    "   - `Ganho de capital` e `Perda de capital` apresentam valores extremos que precisarão ser explorados para detectar outliers.\n",
    "\n",
    "2. **Colunas Categóricas:**\n",
    "   - As colunas categóricas representam classes e são essenciais para análises de frequência, distribuição, e correlação entre diferentes grupos.\n",
    "   - `Classe de Trabalho`, `Ocupação`, e `Estado civil` fornecerão insights sobre a divisão social e econômica dos indivíduos.\n",
    "   - A variável `Classe` é a variável alvo para a classificação, e entender a distribuição das outras variáveis em relação a ela é essencial.\n",
    "\n",
    "A Compreensão dos Tipos de Dados foi essencial para estabelecer uma base sólida para as análises subsequentes. A correta identificação e classificação dos dados permitirão uma análise mais precisa e informada, assegurando que os insights obtidos reflitam com precisão as características da população estudada."
   ]
  },
  {
   "cell_type": "markdown",
   "metadata": {},
   "source": [
    "***"
   ]
  },
  {
   "cell_type": "markdown",
   "metadata": {},
   "source": [
    "## 2. Compreensão dos Tipos de Dados\n",
    "**Calcular e analisar estatísticas resumidas para as colunas numéricas do conjunto de dados**"
   ]
  },
  {
   "cell_type": "code",
   "execution_count": 8,
   "metadata": {},
   "outputs": [
    {
     "data": {
      "text/html": [
       "<div>\n",
       "<style scoped>\n",
       "    .dataframe tbody tr th:only-of-type {\n",
       "        vertical-align: middle;\n",
       "    }\n",
       "\n",
       "    .dataframe tbody tr th {\n",
       "        vertical-align: top;\n",
       "    }\n",
       "\n",
       "    .dataframe thead th {\n",
       "        text-align: right;\n",
       "    }\n",
       "</style>\n",
       "<table border=\"1\" class=\"dataframe\">\n",
       "  <thead>\n",
       "    <tr style=\"text-align: right;\">\n",
       "      <th></th>\n",
       "      <th>Idade</th>\n",
       "      <th>fnlwgt</th>\n",
       "      <th>N da Educação</th>\n",
       "      <th>Ganho de Capital</th>\n",
       "      <th>Perda de Capital</th>\n",
       "      <th>Horas por Semana</th>\n",
       "    </tr>\n",
       "  </thead>\n",
       "  <tbody>\n",
       "    <tr>\n",
       "      <th>count</th>\n",
       "      <td>32561.000000</td>\n",
       "      <td>3.256100e+04</td>\n",
       "      <td>32561.000000</td>\n",
       "      <td>32561.000000</td>\n",
       "      <td>32561.000000</td>\n",
       "      <td>32561.000000</td>\n",
       "    </tr>\n",
       "    <tr>\n",
       "      <th>mean</th>\n",
       "      <td>38.581647</td>\n",
       "      <td>1.897784e+05</td>\n",
       "      <td>10.080679</td>\n",
       "      <td>1077.648844</td>\n",
       "      <td>87.303830</td>\n",
       "      <td>40.437456</td>\n",
       "    </tr>\n",
       "    <tr>\n",
       "      <th>std</th>\n",
       "      <td>13.640433</td>\n",
       "      <td>1.055500e+05</td>\n",
       "      <td>2.572720</td>\n",
       "      <td>7385.292085</td>\n",
       "      <td>402.960219</td>\n",
       "      <td>12.347429</td>\n",
       "    </tr>\n",
       "    <tr>\n",
       "      <th>min</th>\n",
       "      <td>17.000000</td>\n",
       "      <td>1.228500e+04</td>\n",
       "      <td>1.000000</td>\n",
       "      <td>0.000000</td>\n",
       "      <td>0.000000</td>\n",
       "      <td>1.000000</td>\n",
       "    </tr>\n",
       "    <tr>\n",
       "      <th>25%</th>\n",
       "      <td>28.000000</td>\n",
       "      <td>1.178270e+05</td>\n",
       "      <td>9.000000</td>\n",
       "      <td>0.000000</td>\n",
       "      <td>0.000000</td>\n",
       "      <td>40.000000</td>\n",
       "    </tr>\n",
       "    <tr>\n",
       "      <th>50%</th>\n",
       "      <td>37.000000</td>\n",
       "      <td>1.783560e+05</td>\n",
       "      <td>10.000000</td>\n",
       "      <td>0.000000</td>\n",
       "      <td>0.000000</td>\n",
       "      <td>40.000000</td>\n",
       "    </tr>\n",
       "    <tr>\n",
       "      <th>75%</th>\n",
       "      <td>48.000000</td>\n",
       "      <td>2.370510e+05</td>\n",
       "      <td>12.000000</td>\n",
       "      <td>0.000000</td>\n",
       "      <td>0.000000</td>\n",
       "      <td>45.000000</td>\n",
       "    </tr>\n",
       "    <tr>\n",
       "      <th>max</th>\n",
       "      <td>90.000000</td>\n",
       "      <td>1.484705e+06</td>\n",
       "      <td>16.000000</td>\n",
       "      <td>99999.000000</td>\n",
       "      <td>4356.000000</td>\n",
       "      <td>99.000000</td>\n",
       "    </tr>\n",
       "  </tbody>\n",
       "</table>\n",
       "</div>"
      ],
      "text/plain": [
       "              Idade        fnlwgt  N da Educação  Ganho de Capital  \\\n",
       "count  32561.000000  3.256100e+04   32561.000000      32561.000000   \n",
       "mean      38.581647  1.897784e+05      10.080679       1077.648844   \n",
       "std       13.640433  1.055500e+05       2.572720       7385.292085   \n",
       "min       17.000000  1.228500e+04       1.000000          0.000000   \n",
       "25%       28.000000  1.178270e+05       9.000000          0.000000   \n",
       "50%       37.000000  1.783560e+05      10.000000          0.000000   \n",
       "75%       48.000000  2.370510e+05      12.000000          0.000000   \n",
       "max       90.000000  1.484705e+06      16.000000      99999.000000   \n",
       "\n",
       "       Perda de Capital  Horas por Semana  \n",
       "count      32561.000000      32561.000000  \n",
       "mean          87.303830         40.437456  \n",
       "std          402.960219         12.347429  \n",
       "min            0.000000          1.000000  \n",
       "25%            0.000000         40.000000  \n",
       "50%            0.000000         40.000000  \n",
       "75%            0.000000         45.000000  \n",
       "max         4356.000000         99.000000  "
      ]
     },
     "execution_count": 8,
     "metadata": {},
     "output_type": "execute_result"
    }
   ],
   "source": [
    "numeric_columns = ['Idade', 'fnlwgt', 'N da Educação', 'Ganho de Capital', 'Perda de Capital', 'Horas por Semana']\n",
    "statistics = data[numeric_columns].describe()\n",
    "statistics"
   ]
  },
  {
   "cell_type": "markdown",
   "metadata": {},
   "source": [
    "- Análise das Estatísticas Resumidas"
   ]
  },
  {
   "cell_type": "markdown",
   "metadata": {},
   "source": [
    "1. Discussão sobre as Colunas Numéricas:\n",
    "\n",
    "- Idade:\n",
    "\n",
    "    - Média (mean): 38.58 anos\n",
    "    - Mediana (50%): 37 anos\n",
    "    - Desvio Padrão: 13.64 anos\n",
    "    - *Análise: A distribuição da idade parece ser razoavelmente simétrica em torno da média. A variabilidade na idade (desvio padrão) é moderada, indicando uma distribuição de idades razoavelmente ampla entre os indivíduos.*\n",
    "\n",
    "- fnlwgt:\n",
    "\n",
    "    - Média (mean): 1.89\n",
    "    - Mediana (50%): 1.78\n",
    "    - Desvio Padrão (std): 1.05\n",
    "    - *Análise: O fnlwgt é uma variável que pode ser interpretada como um fator de ajuste da amostra, refletindo quantos casos na população o caso individual representa. Esta variável tem uma grande variação, o que pode indicar a presença de outliers ou a necessidade de normalização.*\n",
    "\n",
    "- N dA Educação:\n",
    "\n",
    "    - Média (mean): 10.08\n",
    "    - Mediana (50%): 10\n",
    "    - Desvio Padrão (std): 2.57\n",
    "    - *Análise: Esta variável, que indica o número de anos de educação do indivíduo, apresenta uma distribuição relativamente centralizada em torno de 10 anos, o que é consistente com o nível de ensino médio (High School) nos EUA.*\n",
    "\n",
    "- Ganho de Capital:\n",
    "\n",
    "    - Média: 1,077.65\n",
    "    - Mediana (50%): 0\n",
    "    - Desvio Padrão (std): 7,385.29\n",
    "    - *Análise: A maioria dos valores de ganho de capital é zero, indicando que poucos indivíduos possuem ganhos de capital significativos. A alta variação e a diferença entre a Média (mean) e a mediana sugerem a presença de outliers significativos.*\n",
    "\n",
    "- Perda de Capital:\n",
    "\n",
    "    - Média: 87.30\n",
    "    - Mediana (50%): 0\n",
    "    - Desvio Padrão (std): 402.96\n",
    "    - *Análise: Semelhante ao ganho de capital, a maioria das pessoas não registra perda de capital, o que pode levar à concentração dos dados em valores baixos ou nulos.*\n",
    "\n",
    "- Horas por Semana:\n",
    "\n",
    "    - Média (mean): 40.44 horas\n",
    "    - Mediana (50%): 40 horas\n",
    "    - Desvio Padrão (std): 12.35 horas\n",
    "    - *Análise: A maioria dos indivíduos trabalha em torno de 40 horas por semana, o que é esperado para empregos de tempo integral. A distribuição é bastante concentrada, com pouca variabilidade, exceto por alguns outliers que trabalham significativamente menos ou mais horas.*"
   ]
  },
  {
   "cell_type": "markdown",
   "metadata": {},
   "source": [
    "### Discussão\n",
    "\n",
    "1. **Peso Final (`fnlwgt`):**\n",
    "   - **Justificativa:** O `fnlwgt` pode ser uma característica complicada para interpretação e, dependendo do contexto da análise, pode não agregar valor se o objetivo não for realizar uma análise ponderada da amostra. Para classificações simples de renda, esta variável pode ser desconsiderada.\n",
    "\n",
    "2. **Ganho de Capital e Perda de Capital:**\n",
    "   - **Justificativa:** Ambas as variáveis têm uma grande quantidade de zeros, o que pode indicar que elas têm pouca variação para a maioria da população. A presença de outliers extremos também pode dificultar a interpretação. No entanto, dependendo do foco da análise, essas variáveis podem ser mantidas ou desconsideradas.\n",
    "\n",
    "Nesta etapa, as estatísticas resumidas fornecem uma visão valiosa sobre a distribuição e as características centrais dos dados numéricos. Ao identificar variáveis com pouca variação ou que podem introduzir complexidade desnecessária, podemos decidir se devem ser desconsideradas ou tratadas de forma diferente nas etapas subsequentes."
   ]
  }
 ],
 "metadata": {
  "kernelspec": {
   "display_name": "Python 3",
   "language": "python",
   "name": "python3"
  },
  "language_info": {
   "codemirror_mode": {
    "name": "ipython",
    "version": 3
   },
   "file_extension": ".py",
   "mimetype": "text/x-python",
   "name": "python",
   "nbconvert_exporter": "python",
   "pygments_lexer": "ipython3",
   "version": "3.12.5"
  }
 },
 "nbformat": 4,
 "nbformat_minor": 2
}
