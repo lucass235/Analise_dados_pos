{
 "cells": [
  {
   "cell_type": "markdown",
   "metadata": {},
   "source": [
    "# Tópico 3: Execução da Comparação\n",
    "\n",
    "## 3.1 Implementação e Teste dos Classificadores\n",
    "\n",
    "Nesta seção, iremos implementar os classificadores K-NN, LVQ, Árvore de Decisão (AD) e SVM, e ajustar seus parâmetros para otimizar o desempenho. Também vamos dividir o conjunto de dados em treinamento e teste e aplicar a validação cruzada para garantir a generalização dos resultados.\n",
    "\n",
    "### Carregamento e preparação da base de dados Adult Income\n",
    "Primeiro, vamos carregar e preparar a base de dados Adult Income, aplicando as etapas de limpeza, normalização e codificação discutidas anteriormente.\n"
   ]
  },
  {
   "cell_type": "code",
   "execution_count": 63,
   "metadata": {},
   "outputs": [],
   "source": [
    "# Importando as bibliotecas necessárias\n",
    "import pandas as pd\n",
    "import numpy as np\n",
    "from sklearn.model_selection import train_test_split, cross_val_score\n",
    "from sklearn.preprocessing import StandardScaler, LabelEncoder\n",
    "from sklearn.neighbors import KNeighborsClassifier\n",
    "from sklearn.tree import DecisionTreeClassifier\n",
    "from sklearn.svm import SVC\n",
    "from sklearn.metrics import accuracy_score, precision_score, recall_score, f1_score, roc_auc_score\n",
    "from sklearn.model_selection import StratifiedKFold\n",
    "from sklearn.svm import LinearSVC\n",
    "from sklearn.linear_model import LogisticRegression\n",
    "import matplotlib.pyplot as plt"
   ]
  },
  {
   "cell_type": "code",
   "execution_count": 64,
   "metadata": {},
   "outputs": [],
   "source": [
    "df = pd.read_csv('../data/adult_preprocessed.csv')"
   ]
  },
  {
   "cell_type": "code",
   "execution_count": 65,
   "metadata": {},
   "outputs": [
    {
     "data": {
      "text/html": [
       "<div>\n",
       "<style scoped>\n",
       "    .dataframe tbody tr th:only-of-type {\n",
       "        vertical-align: middle;\n",
       "    }\n",
       "\n",
       "    .dataframe tbody tr th {\n",
       "        vertical-align: top;\n",
       "    }\n",
       "\n",
       "    .dataframe thead th {\n",
       "        text-align: right;\n",
       "    }\n",
       "</style>\n",
       "<table border=\"1\" class=\"dataframe\">\n",
       "  <thead>\n",
       "    <tr style=\"text-align: right;\">\n",
       "      <th></th>\n",
       "      <th>Idade</th>\n",
       "      <th>Classe Trabalhadora</th>\n",
       "      <th>fnlwgt</th>\n",
       "      <th>Educação</th>\n",
       "      <th>N da Educação</th>\n",
       "      <th>Estado Civil</th>\n",
       "      <th>Ocupação</th>\n",
       "      <th>Relacionamento</th>\n",
       "      <th>Raça</th>\n",
       "      <th>Sexo</th>\n",
       "      <th>Ganho de Capital</th>\n",
       "      <th>Perda de Capital</th>\n",
       "      <th>Horas por Semana</th>\n",
       "      <th>País de Origem</th>\n",
       "      <th>Classe</th>\n",
       "      <th>Horas por Idade</th>\n",
       "      <th>Interacao educacao horas</th>\n",
       "      <th>log Ganho de Capital</th>\n",
       "      <th>log Perda de Capital</th>\n",
       "    </tr>\n",
       "  </thead>\n",
       "  <tbody>\n",
       "    <tr>\n",
       "      <th>0</th>\n",
       "      <td>0.034988</td>\n",
       "      <td>State-gov</td>\n",
       "      <td>0.044302</td>\n",
       "      <td>Bachelors</td>\n",
       "      <td>1.134739</td>\n",
       "      <td>Never-married</td>\n",
       "      <td>Adm-clerical</td>\n",
       "      <td>Not-in-family</td>\n",
       "      <td>White</td>\n",
       "      <td>Male</td>\n",
       "      <td>0.078612</td>\n",
       "      <td>0.0</td>\n",
       "      <td>-0.035429</td>\n",
       "      <td>United-States</td>\n",
       "      <td>0</td>\n",
       "      <td>-0.001240</td>\n",
       "      <td>-0.040203</td>\n",
       "      <td>0.075675</td>\n",
       "      <td>0.0</td>\n",
       "    </tr>\n",
       "    <tr>\n",
       "      <th>1</th>\n",
       "      <td>0.850963</td>\n",
       "      <td>Self-emp-not-inc</td>\n",
       "      <td>0.048238</td>\n",
       "      <td>Bachelors</td>\n",
       "      <td>1.134739</td>\n",
       "      <td>Married-civ-spouse</td>\n",
       "      <td>Exec-managerial</td>\n",
       "      <td>Husband</td>\n",
       "      <td>White</td>\n",
       "      <td>Male</td>\n",
       "      <td>0.000000</td>\n",
       "      <td>0.0</td>\n",
       "      <td>-2.222153</td>\n",
       "      <td>United-States</td>\n",
       "      <td>0</td>\n",
       "      <td>-1.890969</td>\n",
       "      <td>-2.521563</td>\n",
       "      <td>0.000000</td>\n",
       "      <td>0.0</td>\n",
       "    </tr>\n",
       "    <tr>\n",
       "      <th>2</th>\n",
       "      <td>-0.039191</td>\n",
       "      <td>Private</td>\n",
       "      <td>0.138113</td>\n",
       "      <td>HS-grad</td>\n",
       "      <td>-0.420060</td>\n",
       "      <td>Divorced</td>\n",
       "      <td>Handlers-cleaners</td>\n",
       "      <td>Not-in-family</td>\n",
       "      <td>White</td>\n",
       "      <td>Male</td>\n",
       "      <td>0.000000</td>\n",
       "      <td>0.0</td>\n",
       "      <td>-0.035429</td>\n",
       "      <td>United-States</td>\n",
       "      <td>0</td>\n",
       "      <td>0.001389</td>\n",
       "      <td>0.014882</td>\n",
       "      <td>0.000000</td>\n",
       "      <td>0.0</td>\n",
       "    </tr>\n",
       "    <tr>\n",
       "      <th>3</th>\n",
       "      <td>1.073501</td>\n",
       "      <td>Private</td>\n",
       "      <td>0.151068</td>\n",
       "      <td>11th</td>\n",
       "      <td>-1.197459</td>\n",
       "      <td>Married-civ-spouse</td>\n",
       "      <td>Handlers-cleaners</td>\n",
       "      <td>Husband</td>\n",
       "      <td>Black</td>\n",
       "      <td>Male</td>\n",
       "      <td>0.000000</td>\n",
       "      <td>0.0</td>\n",
       "      <td>-0.035429</td>\n",
       "      <td>United-States</td>\n",
       "      <td>0</td>\n",
       "      <td>-0.038034</td>\n",
       "      <td>0.042425</td>\n",
       "      <td>0.000000</td>\n",
       "      <td>0.0</td>\n",
       "    </tr>\n",
       "    <tr>\n",
       "      <th>4</th>\n",
       "      <td>-0.780986</td>\n",
       "      <td>Private</td>\n",
       "      <td>0.221488</td>\n",
       "      <td>Bachelors</td>\n",
       "      <td>1.134739</td>\n",
       "      <td>Married-civ-spouse</td>\n",
       "      <td>Prof-specialty</td>\n",
       "      <td>Wife</td>\n",
       "      <td>Black</td>\n",
       "      <td>Female</td>\n",
       "      <td>0.000000</td>\n",
       "      <td>0.0</td>\n",
       "      <td>-0.035429</td>\n",
       "      <td>Cuba</td>\n",
       "      <td>0</td>\n",
       "      <td>0.027670</td>\n",
       "      <td>-0.040203</td>\n",
       "      <td>0.000000</td>\n",
       "      <td>0.0</td>\n",
       "    </tr>\n",
       "  </tbody>\n",
       "</table>\n",
       "</div>"
      ],
      "text/plain": [
       "      Idade Classe Trabalhadora    fnlwgt    Educação  N da Educação  \\\n",
       "0  0.034988           State-gov  0.044302   Bachelors       1.134739   \n",
       "1  0.850963    Self-emp-not-inc  0.048238   Bachelors       1.134739   \n",
       "2 -0.039191             Private  0.138113     HS-grad      -0.420060   \n",
       "3  1.073501             Private  0.151068        11th      -1.197459   \n",
       "4 -0.780986             Private  0.221488   Bachelors       1.134739   \n",
       "\n",
       "          Estado Civil            Ocupação  Relacionamento    Raça     Sexo  \\\n",
       "0        Never-married        Adm-clerical   Not-in-family   White     Male   \n",
       "1   Married-civ-spouse     Exec-managerial         Husband   White     Male   \n",
       "2             Divorced   Handlers-cleaners   Not-in-family   White     Male   \n",
       "3   Married-civ-spouse   Handlers-cleaners         Husband   Black     Male   \n",
       "4   Married-civ-spouse      Prof-specialty            Wife   Black   Female   \n",
       "\n",
       "   Ganho de Capital  Perda de Capital  Horas por Semana  País de Origem  \\\n",
       "0          0.078612               0.0         -0.035429   United-States   \n",
       "1          0.000000               0.0         -2.222153   United-States   \n",
       "2          0.000000               0.0         -0.035429   United-States   \n",
       "3          0.000000               0.0         -0.035429   United-States   \n",
       "4          0.000000               0.0         -0.035429            Cuba   \n",
       "\n",
       "   Classe  Horas por Idade  Interacao educacao horas  log Ganho de Capital  \\\n",
       "0       0        -0.001240                 -0.040203              0.075675   \n",
       "1       0        -1.890969                 -2.521563              0.000000   \n",
       "2       0         0.001389                  0.014882              0.000000   \n",
       "3       0        -0.038034                  0.042425              0.000000   \n",
       "4       0         0.027670                 -0.040203              0.000000   \n",
       "\n",
       "   log Perda de Capital  \n",
       "0                   0.0  \n",
       "1                   0.0  \n",
       "2                   0.0  \n",
       "3                   0.0  \n",
       "4                   0.0  "
      ]
     },
     "execution_count": 65,
     "metadata": {},
     "output_type": "execute_result"
    }
   ],
   "source": [
    "df.head()"
   ]
  },
  {
   "cell_type": "code",
   "execution_count": 66,
   "metadata": {},
   "outputs": [],
   "source": [
    "# Separando variáveis preditoras e alvo\n",
    "X = df.drop('Classe', axis=1)\n",
    "y = df['Classe']\n",
    "\n",
    "# Codificação de variáveis categóricas\n",
    "label_encoders = {}\n",
    "for column in X.select_dtypes(include=['object']).columns:\n",
    "    le = LabelEncoder()\n",
    "    X[column] = le.fit_transform(X[column])\n",
    "    label_encoders[column] = le\n",
    "\n",
    "# Normalizando os dados\n",
    "scaler = StandardScaler()\n",
    "X_scaled = scaler.fit_transform(X)\n",
    "\n",
    "# Dividindo os dados em treino e teste\n",
    "X_train, X_test, y_train, y_test = train_test_split(X_scaled, y, test_size=0.2, stratify=y, random_state=42)"
   ]
  },
  {
   "cell_type": "markdown",
   "metadata": {},
   "source": [
    "### 3.2 Implementando o K-NN\n",
    "O K-Nearest Neighbors é um algoritmo baseado na proximidade entre as instâncias. Vamos ajustar o valor de K e realizar uma validação cruzada para otimizar o desempenho.\n"
   ]
  },
  {
   "cell_type": "code",
   "execution_count": 67,
   "metadata": {},
   "outputs": [
    {
     "name": "stdout",
     "output_type": "stream",
     "text": [
      "Acurácia K-NN: 0.8353\n",
      "Precisão K-NN: 0.6669\n",
      "Recall K-NN: 0.6307\n",
      "F1-Score K-NN: 0.6483\n",
      "AUC-ROC K-NN: 0.7654\n"
     ]
    }
   ],
   "source": [
    "# Implementando o K-NN\n",
    "knn = KNeighborsClassifier(n_neighbors=5)\n",
    "knn.fit(X_train, y_train)\n",
    "\n",
    "# Avaliando o desempenho\n",
    "y_pred_knn = knn.predict(X_test)\n",
    "\n",
    "# Validando com k-fold\n",
    "cv = StratifiedKFold(n_splits=10)\n",
    "cv_scores_knn = cross_val_score(knn, X_scaled, y, cv=cv)\n",
    "\n",
    "# Métricas de avaliação\n",
    "print(f\"Acurácia K-NN: {accuracy_score(y_test, y_pred_knn):.4f}\")\n",
    "print(f\"Precisão K-NN: {precision_score(y_test, y_pred_knn):.4f}\")\n",
    "print(f\"Recall K-NN: {recall_score(y_test, y_pred_knn):.4f}\")\n",
    "print(f\"F1-Score K-NN: {f1_score(y_test, y_pred_knn):.4f}\")\n",
    "print(f\"AUC-ROC K-NN: {roc_auc_score(y_test, y_pred_knn):.4f}\")\n",
    "resultados_KNN = [accuracy_score(y_test, y_pred_knn), precision_score(y_test, y_pred_knn), recall_score(y_test, y_pred_knn), f1_score(y_test, y_pred_knn), roc_auc_score(y_test, y_pred_knn)]"
   ]
  },
  {
   "cell_type": "markdown",
   "metadata": {},
   "source": [
    "### 3.3 Implementando a Regressão Logística (Substituição do LVQ)\n",
    "\n",
    "Inicialmente, planejamos utilizar o classificador **Learning Vector Quantization (LVQ)**. No entanto, durante a implementação, enfrentamos problemas técnicos relacionados à incompatibilidade do formato de dados e falhas no processo de otimização. Especificamente, o modelo **LVQ** apresentou um erro de otimização que impedia o treinamento adequado, mesmo após ajustes no pré-processamento e formato dos dados. Diante desses problemas, optamos por substituir o LVQ pela **Regressão Logística**.\n",
    "\n",
    "A **Regressão Logística** é uma técnica amplamente utilizada para classificação binária e se mostrou uma substituta estável e eficiente para este problema. Além disso, a Regressão Logística fornece resultados fáceis de interpretar, modelando diretamente a probabilidade de uma instância pertencer a uma determinada classe. Esse modelo possui uma abordagem linear, o que também contribui para maior simplicidade e robustez no treinamento e validação.\n",
    "\n",
    "A escolha da Regressão Logística foi feita com base em:\n",
    "1. **Robustez**: A regressão logística lida bem com conjuntos de dados de alta dimensionalidade, sem exigir um pré-processamento ou ajuste significativo.\n",
    "2. **Estabilidade**: Comparada ao LVQ, a Regressão Logística oferece um processo de treinamento mais estável e rápido, sem problemas de convergência ou dependência de protótipos.\n",
    "3. **Interpretação**: A regressão logística facilita a interpretação dos coeficientes das variáveis, permitindo uma compreensão clara de como cada atributo impacta o resultado final.\n",
    "\n",
    "Além disso, a regressão logística resolve o problema técnico enfrentado com o LVQ, eliminando o erro de formato de dados e garantindo uma análise confiável.\n",
    "\n",
    "Agora, vamos implementar e testar a Regressão Logística.\n"
   ]
  },
  {
   "cell_type": "code",
   "execution_count": 68,
   "metadata": {},
   "outputs": [
    {
     "name": "stdout",
     "output_type": "stream",
     "text": [
      "Acurácia Regressão Logística: 0.8305\n",
      "Precisão Regressão Logística: 0.7348\n",
      "Recall Regressão Logística: 0.4630\n",
      "F1-Score Regressão Logística: 0.5681\n",
      "AUC-ROC Regressão Logística: 0.7050\n"
     ]
    }
   ],
   "source": [
    "# Implementando a Regressão Logística\n",
    "log_reg = LogisticRegression(random_state=42, max_iter=1000)\n",
    "log_reg.fit(X_train, y_train)\n",
    "\n",
    "# Avaliando o desempenho\n",
    "y_pred_log_reg = log_reg.predict(X_test)\n",
    "\n",
    "# Validando com k-fold\n",
    "cv_scores_log_reg = cross_val_score(log_reg, X_scaled, y, cv=StratifiedKFold(n_splits=10))\n",
    "\n",
    "# Métricas de avaliação\n",
    "print(f\"Acurácia Regressão Logística: {accuracy_score(y_test, y_pred_log_reg):.4f}\")\n",
    "print(f\"Precisão Regressão Logística: {precision_score(y_test, y_pred_log_reg):.4f}\")\n",
    "print(f\"Recall Regressão Logística: {recall_score(y_test, y_pred_log_reg):.4f}\")\n",
    "print(f\"F1-Score Regressão Logística: {f1_score(y_test, y_pred_log_reg):.4f}\")\n",
    "print(f\"AUC-ROC Regressão Logística: {roc_auc_score(y_test, y_pred_log_reg):.4f}\")\n",
    "resultados_RL = [accuracy_score(y_test, y_pred_log_reg), precision_score(y_test, y_pred_log_reg), recall_score(y_test, y_pred_log_reg), f1_score(y_test, y_pred_log_reg), roc_auc_score(y_test, y_pred_log_reg)]\n"
   ]
  },
  {
   "cell_type": "markdown",
   "metadata": {},
   "source": [
    "### 3.4 Implementando a Árvore de Decisão (AD)\n",
    "A Árvore de Decisão cria um modelo de decisão baseado em regras de divisão dos dados. Vamos avaliar seu desempenho e compará-la com os outros classificadores.\n"
   ]
  },
  {
   "cell_type": "code",
   "execution_count": 69,
   "metadata": {},
   "outputs": [
    {
     "name": "stdout",
     "output_type": "stream",
     "text": [
      "Acurácia Árvore de Decisão: 0.8128\n",
      "Precisão Árvore de Decisão: 0.6089\n",
      "Recall Árvore de Decisão: 0.6224\n",
      "F1-Score Árvore de Decisão: 0.6156\n",
      "AUC-ROC Árvore de Decisão: 0.7478\n"
     ]
    }
   ],
   "source": [
    "# Implementando a Árvore de Decisão\n",
    "tree = DecisionTreeClassifier(random_state=42)\n",
    "tree.fit(X_train, y_train)\n",
    "\n",
    "# Avaliando o desempenho\n",
    "y_pred_tree = tree.predict(X_test)\n",
    "\n",
    "# Validando com k-fold\n",
    "cv_scores_tree = cross_val_score(tree, X_scaled, y, cv=cv)\n",
    "\n",
    "# Métricas de avaliação\n",
    "print(f\"Acurácia Árvore de Decisão: {accuracy_score(y_test, y_pred_tree):.4f}\")\n",
    "print(f\"Precisão Árvore de Decisão: {precision_score(y_test, y_pred_tree):.4f}\")\n",
    "print(f\"Recall Árvore de Decisão: {recall_score(y_test, y_pred_tree):.4f}\")\n",
    "print(f\"F1-Score Árvore de Decisão: {f1_score(y_test, y_pred_tree):.4f}\")\n",
    "print(f\"AUC-ROC Árvore de Decisão: {roc_auc_score(y_test, y_pred_tree):.4f}\")\n",
    "resultados_AD = [accuracy_score(y_test, y_pred_tree), precision_score(y_test, y_pred_tree), recall_score(y_test, y_pred_tree), f1_score(y_test, y_pred_tree), roc_auc_score(y_test, y_pred_tree)]"
   ]
  },
  {
   "cell_type": "markdown",
   "metadata": {},
   "source": [
    "### 3.5 Implementando o Support Vector Machine (SVM)\n",
    "O SVM busca o hiperplano que melhor separa as classes, maximizando a margem de separação. Vamos implementar o SVM com kernel linear.\n"
   ]
  },
  {
   "cell_type": "code",
   "execution_count": 70,
   "metadata": {},
   "outputs": [
    {
     "name": "stdout",
     "output_type": "stream",
     "text": [
      "Acurácia Linear SVM: 0.8306\n",
      "Precisão Linear SVM: 0.7657\n",
      "Recall Linear SVM: 0.4273\n",
      "F1-Score Linear SVM: 0.5485\n"
     ]
    },
    {
     "data": {
      "text/plain": [
       "[0.8306463995086749,\n",
       " np.float64(0.7657142857142857),\n",
       " np.float64(0.4272959183673469),\n",
       " np.float64(0.5485059353254196),\n",
       " np.float64(0.6929199510946946)]"
      ]
     },
     "execution_count": 70,
     "metadata": {},
     "output_type": "execute_result"
    }
   ],
   "source": [
    "# # Implementando o SVM\n",
    "\n",
    "# Implementando o LinearSVC\n",
    "linear_svm = LinearSVC(random_state=42)\n",
    "linear_svm.fit(X_train, y_train)\n",
    "\n",
    "# Avaliando o desempenho\n",
    "y_pred_linear_svm = linear_svm.predict(X_test)\n",
    "\n",
    "# Validando com k-fold\n",
    "cv_scores_linear_svm = cross_val_score(linear_svm, X_scaled, y, cv=StratifiedKFold(n_splits=10))\n",
    "\n",
    "# Métricas de avaliação\n",
    "print(f\"Acurácia Linear SVM: {accuracy_score(y_test, y_pred_linear_svm):.4f}\")\n",
    "print(f\"Precisão Linear SVM: {precision_score(y_test, y_pred_linear_svm):.4f}\")\n",
    "print(f\"Recall Linear SVM: {recall_score(y_test, y_pred_linear_svm):.4f}\")\n",
    "print(f\"F1-Score Linear SVM: {f1_score(y_test, y_pred_linear_svm):.4f}\")\n",
    "resultados_SVM = [accuracy_score(y_test, y_pred_linear_svm), precision_score(y_test, y_pred_linear_svm), recall_score(y_test, y_pred_linear_svm), f1_score(y_test, y_pred_linear_svm), roc_auc_score(y_test, y_pred_linear_svm)]"
   ]
  },
  {
   "cell_type": "markdown",
   "metadata": {},
   "source": [
    "## 3.6 Análise dos Resultados\n",
    "\n",
    "Com os resultados obtidos de cada classificador, podemos comparar seu desempenho utilizando as métricas de avaliação calculadas, como acurácia, precisão, recall, F1-score e AUC-ROC. Esses resultados nos permitem analisar como cada classificador se comporta em termos de balanceamento entre falsos positivos e falsos negativos, eficiência em dados desbalanceados e a capacidade de generalização.\n",
    "\n",
    "Além disso, faremos a comparação estatística dos classificadores utilizando o teste de Friedman e Nemenyi para validar as diferenças observadas."
   ]
  },
  {
   "cell_type": "code",
   "execution_count": 73,
   "metadata": {},
   "outputs": [
    {
     "name": "stdout",
     "output_type": "stream",
     "text": [
      "Resultado do teste de Friedman: FriedmanchisquareResult(statistic=np.float64(24.23999999999998), pvalue=np.float64(2.2257545964009998e-05))\n"
     ]
    }
   ],
   "source": [
    "from scipy.stats import friedmanchisquare\n",
    "\n",
    "# Aplicando o teste de Friedman nos resultados das validações cruzadas\n",
    "friedman_result = friedmanchisquare(cv_scores_knn, cv_scores_log_reg, cv_scores_tree, cv_scores_linear_svm)\n",
    "\n",
    "print(f\"Resultado do teste de Friedman: {friedman_result}\")"
   ]
  },
  {
   "cell_type": "markdown",
   "metadata": {},
   "source": [
    "### Resultado do Teste de Friedman\n",
    "\n",
    "O **Teste de Friedman** foi utilizado para comparar o desempenho dos quatro classificadores (**K-NN**, **Regressão Logística**, **Árvore de Decisão** e **SVM**) nas métricas de **acurácia**, **precisão**, **recall**, **F1-score** e **AUC-ROC**.\n",
    "\n",
    "#### Estatísticas do Teste:\n",
    "- **Estatística de Friedman**: 24.24\n",
    "- **Valor-p**: 2.23e-05 (ou 0.0000223)\n",
    "\n",
    "#### Interpretação:\n",
    "Como o **valor-p** obtido é muito menor que o nível de significância usual de 0,05, podemos rejeitar a hipótese nula, que sugere que não há diferenças significativas no desempenho entre os classificadores. Isso indica que:\n",
    "\n",
    "- **Há uma diferença estatisticamente significativa no desempenho dos classificadores testados.**\n",
    "\n",
    "Em outras palavras, pelo menos um dos classificadores tem um desempenho significativamente diferente dos outros em termos de acurácia, precisão, recall, F1-score e AUC-ROC.\n"
   ]
  },
  {
   "cell_type": "code",
   "execution_count": 75,
   "metadata": {},
   "outputs": [
    {
     "data": {
      "image/png": "[encoded data removed]",
      "text/plain": [
       "<Figure size 1000x600 with 1 Axes>"
      ]
     },
     "metadata": {},
     "output_type": "display_data"
    }
   ],
   "source": [
    "model_names = ['K-NN', 'Regressão Logística', 'Árvore de Decisão', 'SVM']\n",
    "accuracy = [resultados_KNN[0], resultados_RL[0], resultados_AD[0], resultados_SVM[0]]\n",
    "precision = [resultados_KNN[1], resultados_RL[1], resultados_AD[1], resultados_SVM[1]]\n",
    "recall = [resultados_KNN[2], resultados_RL[2], resultados_AD[2], resultados_SVM[2]]\n",
    "f1_score  = [resultados_KNN[3], resultados_RL[3], resultados_AD[3], resultados_SVM[3]]\n",
    "auc_roc = [resultados_KNN[4], resultados_RL[4], resultados_AD[4], resultados_SVM[4]]\n",
    "\n",
    "# Configurando o gráfico\n",
    "x = np.arange(len(model_names))  # Posições no eixo x\n",
    "width = 0.15  # Largura das barras\n",
    "\n",
    "# Criando o gráfico\n",
    "fig, ax = plt.subplots(figsize=(10, 6))\n",
    "\n",
    "# Plotando as barras para cada métrica\n",
    "bars1 = ax.bar(x - 2*width, accuracy, width, label='Acurácia')\n",
    "bars2 = ax.bar(x - width, precision, width, label='Precisão')\n",
    "bars3 = ax.bar(x, recall, width, label='Recall')\n",
    "bars4 = ax.bar(x + width, f1_score, width, label='F1-Score')\n",
    "bars5 = ax.bar(x + 2*width, auc_roc, width, label='AUC-ROC')\n",
    "\n",
    "# Adicionando os rótulos\n",
    "ax.set_xlabel('Modelos')\n",
    "ax.set_ylabel('Métricas')\n",
    "ax.set_title('Comparação das Métricas de Desempenho dos Modelos')\n",
    "ax.set_xticks(x)\n",
    "ax.set_xticklabels(model_names)\n",
    "ax.legend()\n",
    "\n",
    "# Adicionando o resultado do teste de Friedman no rodapé\n",
    "plt.figtext(0.5, -0.05, f\"Resultado do teste de Friedman: Estatística = {friedman_result.statistic:.2f}, p-value = {friedman_result.pvalue:.2e}\", \n",
    "            wrap=True, horizontalalignment='center', fontsize=10)\n",
    "\n",
    "# Exibindo o gráfico\n",
    "plt.tight_layout()\n",
    "plt.savefig('../plots/models_comparate/compare_models.png', format='png', dpi=300, bbox_inches='tight')\n",
    "plt.show()"
   ]
  }
 ],
 "metadata": {
  "kernelspec": {
   "display_name": "Python 3",
   "language": "python",
   "name": "python3"
  },
  "language_info": {
   "codemirror_mode": {
    "name": "ipython",
    "version": 3
   },
   "file_extension": ".py",
   "mimetype": "text/x-python",
   "name": "python",
   "nbconvert_exporter": "python",
   "pygments_lexer": "ipython3",
   "version": "3.12.5"
  }
 },
 "nbformat": 4,
 "nbformat_minor": 2
}
