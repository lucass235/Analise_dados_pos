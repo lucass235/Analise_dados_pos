{
 "cells": [
  {
   "cell_type": "code",
   "execution_count": 33,
   "metadata": {},
   "outputs": [],
   "source": [
    "# Importando bibliotecas necessárias\n",
    "import pandas as pd\n",
    "import numpy as np\n",
    "from sklearn.model_selection import train_test_split\n",
    "from sklearn.preprocessing import StandardScaler, OneHotEncoder\n",
    "from sklearn.compose import ColumnTransformer\n",
    "from sklearn.pipeline import Pipeline\n",
    "from sklearn.neighbors import KNeighborsClassifier\n",
    "from sklearn.tree import DecisionTreeClassifier\n",
    "from sklearn.svm import SVC\n",
    "from sklearn.neural_network import MLPClassifier\n",
    "from sklearn.linear_model import LogisticRegression\n",
    "from sklearn.linear_model import SGDClassifier\n",
    "from sklearn.metrics import accuracy_score, precision_score, recall_score, f1_score, roc_auc_score, confusion_matrix\n",
    "from sklearn.datasets import fetch_openml"
   ]
  },
  {
   "cell_type": "code",
   "execution_count": 34,
   "metadata": {},
   "outputs": [],
   "source": [
    "data = pd.read_csv('../data/adult_preprocessed.csv')"
   ]
  },
  {
   "cell_type": "code",
   "execution_count": 35,
   "metadata": {},
   "outputs": [
    {
     "data": {
      "text/html": [
       "<div>\n",
       "<style scoped>\n",
       "    .dataframe tbody tr th:only-of-type {\n",
       "        vertical-align: middle;\n",
       "    }\n",
       "\n",
       "    .dataframe tbody tr th {\n",
       "        vertical-align: top;\n",
       "    }\n",
       "\n",
       "    .dataframe thead th {\n",
       "        text-align: right;\n",
       "    }\n",
       "</style>\n",
       "<table border=\"1\" class=\"dataframe\">\n",
       "  <thead>\n",
       "    <tr style=\"text-align: right;\">\n",
       "      <th></th>\n",
       "      <th>Idade</th>\n",
       "      <th>Classe Trabalhadora</th>\n",
       "      <th>fnlwgt</th>\n",
       "      <th>Educação</th>\n",
       "      <th>N da Educação</th>\n",
       "      <th>Estado Civil</th>\n",
       "      <th>Ocupação</th>\n",
       "      <th>Relacionamento</th>\n",
       "      <th>Raça</th>\n",
       "      <th>Sexo</th>\n",
       "      <th>Ganho de Capital</th>\n",
       "      <th>Perda de Capital</th>\n",
       "      <th>Horas por Semana</th>\n",
       "      <th>País de Origem</th>\n",
       "      <th>Classe</th>\n",
       "      <th>Horas por Idade</th>\n",
       "      <th>Interacao educacao horas</th>\n",
       "      <th>log Ganho de Capital</th>\n",
       "      <th>log Perda de Capital</th>\n",
       "    </tr>\n",
       "  </thead>\n",
       "  <tbody>\n",
       "    <tr>\n",
       "      <th>0</th>\n",
       "      <td>0.034988</td>\n",
       "      <td>State-gov</td>\n",
       "      <td>0.044302</td>\n",
       "      <td>Bachelors</td>\n",
       "      <td>1.134739</td>\n",
       "      <td>Never-married</td>\n",
       "      <td>Adm-clerical</td>\n",
       "      <td>Not-in-family</td>\n",
       "      <td>White</td>\n",
       "      <td>Male</td>\n",
       "      <td>0.078612</td>\n",
       "      <td>0.0</td>\n",
       "      <td>-0.035429</td>\n",
       "      <td>United-States</td>\n",
       "      <td>0</td>\n",
       "      <td>-0.001240</td>\n",
       "      <td>-0.040203</td>\n",
       "      <td>0.075675</td>\n",
       "      <td>0.0</td>\n",
       "    </tr>\n",
       "    <tr>\n",
       "      <th>1</th>\n",
       "      <td>0.850963</td>\n",
       "      <td>Self-emp-not-inc</td>\n",
       "      <td>0.048238</td>\n",
       "      <td>Bachelors</td>\n",
       "      <td>1.134739</td>\n",
       "      <td>Married-civ-spouse</td>\n",
       "      <td>Exec-managerial</td>\n",
       "      <td>Husband</td>\n",
       "      <td>White</td>\n",
       "      <td>Male</td>\n",
       "      <td>0.000000</td>\n",
       "      <td>0.0</td>\n",
       "      <td>-2.222153</td>\n",
       "      <td>United-States</td>\n",
       "      <td>0</td>\n",
       "      <td>-1.890969</td>\n",
       "      <td>-2.521563</td>\n",
       "      <td>0.000000</td>\n",
       "      <td>0.0</td>\n",
       "    </tr>\n",
       "    <tr>\n",
       "      <th>2</th>\n",
       "      <td>-0.039191</td>\n",
       "      <td>Private</td>\n",
       "      <td>0.138113</td>\n",
       "      <td>HS-grad</td>\n",
       "      <td>-0.420060</td>\n",
       "      <td>Divorced</td>\n",
       "      <td>Handlers-cleaners</td>\n",
       "      <td>Not-in-family</td>\n",
       "      <td>White</td>\n",
       "      <td>Male</td>\n",
       "      <td>0.000000</td>\n",
       "      <td>0.0</td>\n",
       "      <td>-0.035429</td>\n",
       "      <td>United-States</td>\n",
       "      <td>0</td>\n",
       "      <td>0.001389</td>\n",
       "      <td>0.014882</td>\n",
       "      <td>0.000000</td>\n",
       "      <td>0.0</td>\n",
       "    </tr>\n",
       "    <tr>\n",
       "      <th>3</th>\n",
       "      <td>1.073501</td>\n",
       "      <td>Private</td>\n",
       "      <td>0.151068</td>\n",
       "      <td>11th</td>\n",
       "      <td>-1.197459</td>\n",
       "      <td>Married-civ-spouse</td>\n",
       "      <td>Handlers-cleaners</td>\n",
       "      <td>Husband</td>\n",
       "      <td>Black</td>\n",
       "      <td>Male</td>\n",
       "      <td>0.000000</td>\n",
       "      <td>0.0</td>\n",
       "      <td>-0.035429</td>\n",
       "      <td>United-States</td>\n",
       "      <td>0</td>\n",
       "      <td>-0.038034</td>\n",
       "      <td>0.042425</td>\n",
       "      <td>0.000000</td>\n",
       "      <td>0.0</td>\n",
       "    </tr>\n",
       "    <tr>\n",
       "      <th>4</th>\n",
       "      <td>-0.780986</td>\n",
       "      <td>Private</td>\n",
       "      <td>0.221488</td>\n",
       "      <td>Bachelors</td>\n",
       "      <td>1.134739</td>\n",
       "      <td>Married-civ-spouse</td>\n",
       "      <td>Prof-specialty</td>\n",
       "      <td>Wife</td>\n",
       "      <td>Black</td>\n",
       "      <td>Female</td>\n",
       "      <td>0.000000</td>\n",
       "      <td>0.0</td>\n",
       "      <td>-0.035429</td>\n",
       "      <td>Cuba</td>\n",
       "      <td>0</td>\n",
       "      <td>0.027670</td>\n",
       "      <td>-0.040203</td>\n",
       "      <td>0.000000</td>\n",
       "      <td>0.0</td>\n",
       "    </tr>\n",
       "  </tbody>\n",
       "</table>\n",
       "</div>"
      ],
      "text/plain": [
       "      Idade Classe Trabalhadora    fnlwgt    Educação  N da Educação  \\\n",
       "0  0.034988           State-gov  0.044302   Bachelors       1.134739   \n",
       "1  0.850963    Self-emp-not-inc  0.048238   Bachelors       1.134739   \n",
       "2 -0.039191             Private  0.138113     HS-grad      -0.420060   \n",
       "3  1.073501             Private  0.151068        11th      -1.197459   \n",
       "4 -0.780986             Private  0.221488   Bachelors       1.134739   \n",
       "\n",
       "          Estado Civil            Ocupação  Relacionamento    Raça     Sexo  \\\n",
       "0        Never-married        Adm-clerical   Not-in-family   White     Male   \n",
       "1   Married-civ-spouse     Exec-managerial         Husband   White     Male   \n",
       "2             Divorced   Handlers-cleaners   Not-in-family   White     Male   \n",
       "3   Married-civ-spouse   Handlers-cleaners         Husband   Black     Male   \n",
       "4   Married-civ-spouse      Prof-specialty            Wife   Black   Female   \n",
       "\n",
       "   Ganho de Capital  Perda de Capital  Horas por Semana  País de Origem  \\\n",
       "0          0.078612               0.0         -0.035429   United-States   \n",
       "1          0.000000               0.0         -2.222153   United-States   \n",
       "2          0.000000               0.0         -0.035429   United-States   \n",
       "3          0.000000               0.0         -0.035429   United-States   \n",
       "4          0.000000               0.0         -0.035429            Cuba   \n",
       "\n",
       "   Classe  Horas por Idade  Interacao educacao horas  log Ganho de Capital  \\\n",
       "0       0        -0.001240                 -0.040203              0.075675   \n",
       "1       0        -1.890969                 -2.521563              0.000000   \n",
       "2       0         0.001389                  0.014882              0.000000   \n",
       "3       0        -0.038034                  0.042425              0.000000   \n",
       "4       0         0.027670                 -0.040203              0.000000   \n",
       "\n",
       "   log Perda de Capital  \n",
       "0                   0.0  \n",
       "1                   0.0  \n",
       "2                   0.0  \n",
       "3                   0.0  \n",
       "4                   0.0  "
      ]
     },
     "execution_count": 35,
     "metadata": {},
     "output_type": "execute_result"
    }
   ],
   "source": [
    "data.head()"
   ]
  },
  {
   "cell_type": "code",
   "execution_count": 36,
   "metadata": {},
   "outputs": [],
   "source": [
    "# Preparando a base de dados\n",
    "data.dropna(inplace=True)"
   ]
  },
  {
   "cell_type": "code",
   "execution_count": 37,
   "metadata": {},
   "outputs": [],
   "source": [
    "# Dividindo as features e o target\n",
    "X = data.drop('Classe', axis=1)\n",
    "y = (data['Classe']).astype(int)"
   ]
  },
  {
   "cell_type": "code",
   "execution_count": 38,
   "metadata": {},
   "outputs": [
    {
     "data": {
      "text/plain": [
       "0        0\n",
       "1        0\n",
       "2        0\n",
       "3        0\n",
       "4        0\n",
       "        ..\n",
       "32556    0\n",
       "32557    1\n",
       "32558    0\n",
       "32559    0\n",
       "32560    1\n",
       "Name: Classe, Length: 32561, dtype: int64"
      ]
     },
     "execution_count": 38,
     "metadata": {},
     "output_type": "execute_result"
    }
   ],
   "source": [
    "y"
   ]
  },
  {
   "cell_type": "code",
   "execution_count": 39,
   "metadata": {},
   "outputs": [],
   "source": [
    "# Codificando variáveis categóricas\n",
    "X = pd.get_dummies(X, drop_first=True)"
   ]
  },
  {
   "cell_type": "code",
   "execution_count": 40,
   "metadata": {},
   "outputs": [],
   "source": [
    "# Divisão do conjunto de dados em treino e teste\n",
    "X_train, X_test, y_train, y_test = train_test_split(X, y, test_size=0.2, stratify=y, random_state=42)"
   ]
  },
  {
   "cell_type": "code",
   "execution_count": 41,
   "metadata": {},
   "outputs": [],
   "source": [
    "# Normalizando os dados numéricos\n",
    "scaler = StandardScaler()\n",
    "X_train_scaled = scaler.fit_transform(X_train)\n",
    "X_test_scaled = scaler.transform(X_test)"
   ]
  },
  {
   "cell_type": "code",
   "execution_count": 42,
   "metadata": {},
   "outputs": [],
   "source": [
    "# Definindo os classificadores a serem testados\n",
    "models = {\n",
    "    'K-NN': KNeighborsClassifier(n_neighbors=5),\n",
    "    'Árvore de Decisão': DecisionTreeClassifier(max_depth=5),\n",
    "    'SVM': SVC(probability=True, C=1.0, kernel='linear'),\n",
    "    'RNA': MLPClassifier(max_iter=500, hidden_layer_sizes=(100,)),\n",
    "    'Regressão Logística': LogisticRegression(max_iter=500),\n",
    "    'SGD': SGDClassifier(max_iter=500, learning_rate='optimal')\n",
    "}"
   ]
  },
  {
   "cell_type": "code",
   "execution_count": 43,
   "metadata": {},
   "outputs": [],
   "source": [
    "# Função para treinar e avaliar os modelos\n",
    "def evaluate_model(model, X_train, y_train, X_test, y_test):\n",
    "    model.fit(X_train, y_train)\n",
    "    y_pred = model.predict(X_test)\n",
    "    \n",
    "    # Adicionando zero_division=0 para evitar UndefinedMetricWarning\n",
    "    precision = precision_score(y_test, y_pred, zero_division=0)\n",
    "    recall = recall_score(y_test, y_pred, zero_division=0)\n",
    "    f1 = f1_score(y_test, y_pred, zero_division=0)\n",
    "    \n",
    "    # Verificando se o modelo possui duas classes\n",
    "    if hasattr(model, \"predict_proba\"):\n",
    "        y_proba = model.predict_proba(X_test)\n",
    "        roc_auc = roc_auc_score(y_test, y_proba[:, 1]) if y_proba.shape[1] > 1 else 0.0\n",
    "    else:\n",
    "        roc_auc = 0.0  # Se o modelo não suporta predict_proba\n",
    "        \n",
    "    return {\n",
    "        'accuracy': accuracy_score(y_test, y_pred),\n",
    "        'precision': precision,\n",
    "        'recall': recall,\n",
    "        'f1': f1,\n",
    "        'roc_auc': roc_auc,\n",
    "        'confusion_matrix': confusion_matrix(y_test, y_pred)\n",
    "    }"
   ]
  },
  {
   "cell_type": "code",
   "execution_count": 44,
   "metadata": {},
   "outputs": [
    {
     "name": "stdout",
     "output_type": "stream",
     "text": [
      "Distribuição das classes no conjunto de treinamento:\n",
      "Classe\n",
      "0    19775\n",
      "1     6273\n",
      "Name: count, dtype: int64\n",
      "Distribuição das classes no conjunto de teste:\n",
      "Classe\n",
      "0    4945\n",
      "1    1568\n",
      "Name: count, dtype: int64\n"
     ]
    }
   ],
   "source": [
    "print(\"Distribuição das classes no conjunto de treinamento:\")\n",
    "print(y_train.value_counts())\n",
    "\n",
    "print(\"Distribuição das classes no conjunto de teste:\")\n",
    "print(y_test.value_counts())\n"
   ]
  },
  {
   "cell_type": "code",
   "execution_count": 45,
   "metadata": {},
   "outputs": [
    {
     "name": "stdout",
     "output_type": "stream",
     "text": [
      "Avaliando modelo: K-NN\n",
      "Avaliando modelo: Árvore de Decisão\n",
      "Avaliando modelo: SVM\n",
      "Avaliando modelo: RNA\n",
      "Avaliando modelo: Regressão Logística\n",
      "Avaliando modelo: SGD\n"
     ]
    }
   ],
   "source": [
    "# Avaliando todos os modelos\n",
    "results = {}\n",
    "for model_name, model in models.items():\n",
    "    print(f\"Avaliando modelo: {model_name}\")\n",
    "    results[model_name] = evaluate_model(model, X_train_scaled, y_train, X_test_scaled, y_test)"
   ]
  },
  {
   "cell_type": "code",
   "execution_count": 46,
   "metadata": {},
   "outputs": [
    {
     "name": "stdout",
     "output_type": "stream",
     "text": [
      "                     accuracy precision    recall        f1   roc_auc  \\\n",
      "K-NN                 0.829725  0.661506   0.59949  0.628973  0.860365   \n",
      "Árvore de Decisão    0.849992  0.791133  0.512117  0.621758  0.888021   \n",
      "SVM                  0.849839   0.75085  0.563138  0.643586  0.903823   \n",
      "RNA                  0.837863  0.672275  0.637117  0.654224  0.882098   \n",
      "Regressão Logística  0.856595  0.740152  0.623087  0.676593  0.910055   \n",
      "SGD                  0.847843  0.732474  0.579719  0.647205       0.0   \n",
      "\n",
      "                              confusion_matrix  \n",
      "K-NN                 [[4464, 481], [628, 940]]  \n",
      "Árvore de Decisão    [[4733, 212], [765, 803]]  \n",
      "SVM                  [[4652, 293], [685, 883]]  \n",
      "RNA                  [[4458, 487], [569, 999]]  \n",
      "Regressão Logística  [[4602, 343], [591, 977]]  \n",
      "SGD                  [[4613, 332], [659, 909]]  \n"
     ]
    }
   ],
   "source": [
    "# Exibindo resultados\n",
    "results_df = pd.DataFrame(results).T\n",
    "print(results_df)"
   ]
  },
  {
   "cell_type": "code",
   "execution_count": 48,
   "metadata": {},
   "outputs": [
    {
     "name": "stdout",
     "output_type": "stream",
     "text": [
      "Resultados do Teste de Friedman: FriedmanchisquareResult(statistic=np.float64(17.33333333333333), pvalue=np.float64(0.0016649118076211677))\n"
     ]
    }
   ],
   "source": [
    "from scipy.stats import friedmanchisquare\n",
    "\n",
    "# Organizando as métricas de interesse para o teste\n",
    "accuracy_values = [result['accuracy'] for result in results.values()]\n",
    "precision_values = [result['precision'] for result in results.values()]\n",
    "recall_values = [result['recall'] for result in results.values()]\n",
    "f1_values = [result['f1'] for result in results.values()]\n",
    "roc_auc_values = [result['roc_auc'] for result in results.values()]\n",
    "\n",
    "# Teste de Friedman\n",
    "friedman_test = friedmanchisquare(accuracy_values, precision_values, recall_values, f1_values, roc_auc_values)\n",
    "print(\"Resultados do Teste de Friedman:\", friedman_test)"
   ]
  },
  {
   "cell_type": "code",
   "execution_count": 49,
   "metadata": {},
   "outputs": [
    {
     "name": "stdout",
     "output_type": "stream",
     "text": [
      "Resultados de Desempenho dos Modelos:\n",
      "                     accuracy precision    recall        f1   roc_auc  \\\n",
      "K-NN                 0.829725  0.661506   0.59949  0.628973  0.860365   \n",
      "Árvore de Decisão    0.849992  0.791133  0.512117  0.621758  0.888021   \n",
      "SVM                  0.849839   0.75085  0.563138  0.643586  0.903823   \n",
      "RNA                  0.837863  0.672275  0.637117  0.654224  0.882098   \n",
      "Regressão Logística  0.856595  0.740152  0.623087  0.676593  0.910055   \n",
      "SGD                  0.847843  0.732474  0.579719  0.647205       0.0   \n",
      "\n",
      "                              confusion_matrix  \n",
      "K-NN                 [[4464, 481], [628, 940]]  \n",
      "Árvore de Decisão    [[4733, 212], [765, 803]]  \n",
      "SVM                  [[4652, 293], [685, 883]]  \n",
      "RNA                  [[4458, 487], [569, 999]]  \n",
      "Regressão Logística  [[4602, 343], [591, 977]]  \n",
      "SGD                  [[4613, 332], [659, 909]]  \n",
      "\n",
      "Resumo Estatístico das Métricas:\n",
      "        accuracy  precision   recall        f1   roc_auc  \\\n",
      "count   6.000000   6.000000  6.00000  6.000000  6.000000   \n",
      "unique  6.000000   6.000000  6.00000  6.000000  6.000000   \n",
      "top     0.829725   0.661506  0.59949  0.628973  0.860365   \n",
      "freq    1.000000   1.000000  1.00000  1.000000  1.000000   \n",
      "\n",
      "                 confusion_matrix  \n",
      "count                           6  \n",
      "unique                          6  \n",
      "top     [[4464, 481], [628, 940]]  \n",
      "freq                            1  \n"
     ]
    }
   ],
   "source": [
    "# Analisando resultados\n",
    "print(\"Resultados de Desempenho dos Modelos:\")\n",
    "print(results_df)\n",
    "\n",
    "# Calcular a média e o desvio padrão das métricas\n",
    "metrics_summary = results_df.describe()\n",
    "print(\"\\nResumo Estatístico das Métricas:\")\n",
    "print(metrics_summary)\n"
   ]
  },
  {
   "cell_type": "code",
   "execution_count": 50,
   "metadata": {},
   "outputs": [
    {
     "data": {
      "image/png": "[encoded data removed]",
      "text/plain": [
       "<Figure size 1200x600 with 1 Axes>"
      ]
     },
     "metadata": {},
     "output_type": "display_data"
    }
   ],
   "source": [
    "import matplotlib.pyplot as plt\n",
    "import seaborn as sns\n",
    "\n",
    "# Criando um gráfico de barras para as métricas\n",
    "results_df[['accuracy', 'precision', 'recall', 'f1', 'roc_auc']].plot(kind='bar', figsize=(12, 6))\n",
    "plt.title('Comparação de Classificadores')\n",
    "plt.ylabel('Valor das Métricas')\n",
    "plt.xticks(rotation=45)\n",
    "plt.legend(title='Métricas')\n",
    "plt.tight_layout()\n",
    "plt.show()\n"
   ]
  },
  {
   "cell_type": "code",
   "execution_count": 52,
   "metadata": {},
   "outputs": [
    {
     "name": "stdout",
     "output_type": "stream",
     "text": [
      "Resultados do Teste de Friedman: FriedmanchisquareResult(statistic=np.float64(17.33333333333333), pvalue=np.float64(0.0016649118076211677))\n",
      "Diferenças significativas encontradas. Realizando teste post-hoc de Nemenyi.\n",
      "Resultados do teste de Nemenyi:\n",
      "           0         1         2         3         4\n",
      "0  1.000000  0.783655  0.008987  0.182923  0.900000\n",
      "1  0.783655  1.000000  0.182923  0.783655  0.680037\n",
      "2  0.008987  0.182923  1.000000  0.783655  0.004751\n",
      "3  0.182923  0.783655  0.783655  1.000000  0.122823\n",
      "4  0.900000  0.680037  0.004751  0.122823  1.000000\n"
     ]
    }
   ],
   "source": [
    "from scipy.stats import friedmanchisquare\n",
    "import numpy as np\n",
    "\n",
    "# Organizando as métricas de interesse para o teste\n",
    "accuracy_values = [result['accuracy'] for result in results.values()]\n",
    "precision_values = [result['precision'] for result in results.values()]\n",
    "recall_values = [result['recall'] for result in results.values()]\n",
    "f1_values = [result['f1'] for result in results.values()]\n",
    "roc_auc_values = [result['roc_auc'] for result in results.values()]\n",
    "\n",
    "# Teste de Friedman\n",
    "friedman_test = friedmanchisquare(accuracy_values, precision_values, recall_values, f1_values, roc_auc_values)\n",
    "print(\"Resultados do Teste de Friedman:\", friedman_test)\n",
    "\n",
    "# Se o p-valor for menor que 0.05, realizamos o teste post-hoc\n",
    "if friedman_test.pvalue < 0.05:\n",
    "    print(\"Diferenças significativas encontradas. Realizando teste post-hoc de Nemenyi.\")\n",
    "    from scikit_posthocs import posthoc_nemenyi_friedman\n",
    "\n",
    "    # Criando um DataFrame para os dados\n",
    "    metrics_data = pd.DataFrame({\n",
    "        'accuracy': accuracy_values,\n",
    "        'precision': precision_values,\n",
    "        'recall': recall_values,\n",
    "        'f1': f1_values,\n",
    "        'roc_auc': roc_auc_values\n",
    "    })\n",
    "    \n",
    "    # Realizando o teste de Nemenyi\n",
    "    nemenyi_results = posthoc_nemenyi_friedman(metrics_data.values)\n",
    "    print(\"Resultados do teste de Nemenyi:\\n\", nemenyi_results)\n"
   ]
  },
  {
   "cell_type": "markdown",
   "metadata": {},
   "source": [
    "## Interpretação dos Resultados\n",
    "\n",
    "### Teste de Friedman\n",
    "\n",
    "- **Estatística de Friedman**: `17.33`\n",
    "- **p-valor**: `0.00166`\n",
    "\n",
    "**Interpretação**:\n",
    "- O p-valor é menor que 0.05, o que indica que existe uma diferença significativa nas métricas de desempenho entre os classificadores testados. Isso significa que pelo menos um dos classificadores teve um desempenho diferente dos outros em alguma das métricas de avaliação.\n",
    "\n",
    "### Teste Post-Hoc de Nemenyi\n",
    "\n",
    "Os resultados do teste de Nemenyi são apresentados na matriz abaixo, onde cada célula (i, j) indica o p-valor da comparação entre os modelos i e j:\n",
    "\n"
   ]
  },
  {
   "cell_type": "code",
   "execution_count": 53,
   "metadata": {},
   "outputs": [
    {
     "name": "stdout",
     "output_type": "stream",
     "text": [
      "Resultados do teste de Nemenyi:\n",
      "           0         1         2         3         4\n",
      "0  1.000000  0.783655  0.008987  0.182923  0.900000\n",
      "1  0.783655  1.000000  0.182923  0.783655  0.680037\n",
      "2  0.008987  0.182923  1.000000  0.783655  0.004751\n",
      "3  0.182923  0.783655  0.783655  1.000000  0.122823\n",
      "4  0.900000  0.680037  0.004751  0.122823  1.000000\n"
     ]
    }
   ],
   "source": [
    "print(\"Resultados do teste de Nemenyi:\\n\", nemenyi_results)"
   ]
  },
  {
   "cell_type": "markdown",
   "metadata": {},
   "source": [
    "\n",
    "- **Identificação dos Modelos**: \n",
    "  - 0: K-NN\n",
    "  - 1: Árvore de Decisão\n",
    "  - 2: SVM\n",
    "  - 3: RNA (Rede Neural Artificial)\n",
    "  - 4: Regressão Logística\n",
    "\n",
    "**Análise das Comparações**:\n",
    "- **K-NN vs SVM**: p-valor = `0.008987` (diferença significativa)\n",
    "- **K-NN vs Regressão Logística**: p-valor = `0.900000` (sem diferença significativa)\n",
    "- **SVM vs Regressão Logística**: p-valor = `0.004751` (diferença significativa)\n",
    "\n",
    "**Interpretação**:\n",
    "- K-NN e SVM são significativamente diferentes, com K-NN tendo um desempenho pior em comparação ao SVM em pelo menos uma métrica.\n",
    "- A SVM e a Regressão Logística também apresentam diferenças significativas.\n",
    "- Modelos como Árvore de Decisão e RNA não mostram diferenças significativas com relação a outros modelos em geral.\n",
    "\n",
    "### Conclusões\n",
    "\n",
    "1. **Desempenho dos Classificadores**: Com base nos resultados dos testes, você pode concluir que o SVM se destacou entre os classificadores avaliados, enquanto o K-NN teve um desempenho inferior em relação a ele.\n",
    "2. **Relevância das Métricas**: Considere discutir quais métricas são mais relevantes para o seu problema específico (por exemplo, precisão pode ser mais importante do que recall dependendo do contexto).\n",
    "3. **Próximos Passos**: Você pode explorar melhorias na modelagem, ajustar hiperparâmetros, ou mesmo considerar outros classificadores, dependendo do contexto do seu problema e dos resultados obtidos.\n"
   ]
  }
 ],
 "metadata": {
  "kernelspec": {
   "display_name": "Python 3",
   "language": "python",
   "name": "python3"
  },
  "language_info": {
   "codemirror_mode": {
    "name": "ipython",
    "version": 3
   },
   "file_extension": ".py",
   "mimetype": "text/x-python",
   "name": "python",
   "nbconvert_exporter": "python",
   "pygments_lexer": "ipython3",
   "version": "3.12.5"
  }
 },
 "nbformat": 4,
 "nbformat_minor": 2
}
